{
 "cells": [
  {
   "cell_type": "markdown",
   "metadata": {},
   "source": [
    "# Practice Problem 6.1\n"
   ]
  },
  {
   "cell_type": "code",
   "execution_count": 7,
   "metadata": {},
   "outputs": [
    {
     "data": {
      "text/plain": [
       "'Illinois'"
      ]
     },
     "execution_count": 7,
     "metadata": {},
     "output_type": "execute_result"
    }
   ],
   "source": [
    "def birthState(key):\n",
    "    d = {'Barack Hussein Obama II':'Hawaii','George Walker Bush':'Connecticut','William Jefferson Clinton':'Arkansas','George Herbert Walker Bush':'Massachussetts','Ronald Wilson Reagan':'Illinois','James Earl Carter, Jr':'Georgia'}\n",
    "    return d[key]\n",
    "birthState('Ronald Wilson Reagan')"
   ]
  },
  {
   "cell_type": "markdown",
   "metadata": {},
   "source": [
    "# Practice Problem 6.2\n"
   ]
  },
  {
   "cell_type": "code",
   "execution_count": 9,
   "metadata": {},
   "outputs": [
    {
     "name": "stdout",
     "output_type": "stream",
     "text": [
      "Enter phone number in the format (xxx)xxx-xx-xx: (123)456-78-90\n"
     ]
    },
    {
     "data": {
      "text/plain": [
       "['Anna', 'Karenina']"
      ]
     },
     "execution_count": 9,
     "metadata": {},
     "output_type": "execute_result"
    }
   ],
   "source": [
    "def  rlookup(d):\n",
    "    key = input('Enter phone number in the format (xxx)xxx-xx-xx: ')\n",
    "    if key in d:\n",
    "        return d[key]\n",
    "    return 'The number you entered is not in use.'\n",
    "    \n",
    "pb = {'(123)456-78-90':['Anna','Karenina'],'(901)234-56-78':['Yu', 'Tsun'],'(321)908-76-54':['Hans', 'Castorp']}\n",
    "rlookup(pb)"
   ]
  },
  {
   "cell_type": "markdown",
   "metadata": {},
   "source": [
    "# Practice Problem 6.3\n"
   ]
  },
  {
   "cell_type": "code",
   "execution_count": 10,
   "metadata": {},
   "outputs": [
    {
     "data": {
      "text/plain": [
       "{'Jimmy': 1, 'Adam': 2, 'John': 1, 'Joan': 2, 'Cindy': 3}"
      ]
     },
     "execution_count": 10,
     "metadata": {},
     "output_type": "execute_result"
    }
   ],
   "source": [
    "def frequency(lst):\n",
    "    lstSet = set(lst)\n",
    "    res = {}\n",
    "    for s in lstSet:\n",
    "        res[s] = lst.count(s)\n",
    "    return res\n",
    "\n",
    "students = ['Cindy', 'John', 'Cindy', 'Adam', 'Adam',\n",
    "'Jimmy', 'Joan', 'Cindy', 'Joan']\n",
    "frequency(students)"
   ]
  },
  {
   "cell_type": "markdown",
   "metadata": {},
   "source": [
    "# Practice Problem 6.4\n"
   ]
  },
  {
   "cell_type": "code",
   "execution_count": 20,
   "metadata": {},
   "outputs": [
    {
     "name": "stdout",
     "output_type": "stream",
     "text": [
      "are appears 2 times.\n",
      "some appears 1 times.\n",
      "equal appears 2 times.\n",
      "all appears 1 times.\n",
      "others appears 1 times.\n",
      "but appears 1 times.\n",
      "than appears 1 times.\n",
      "animals appears 2 times.\n",
      "more appears 1 times.\n"
     ]
    }
   ],
   "source": [
    "def WordCount(t):\n",
    "    s = set(t.split())\n",
    "    for word in s:\n",
    "        print('{} appears {} times.'.format(word,t.count(word)))\n",
    "    \n",
    "    \n",
    "text = 'all animals are equal but some \\nanimals are more equal than others'\n",
    "\n",
    "WordCount(text)"
   ]
  },
  {
   "cell_type": "markdown",
   "metadata": {},
   "source": [
    "# Practice Problem 6.5\n"
   ]
  },
  {
   "cell_type": "code",
   "execution_count": 40,
   "metadata": {},
   "outputs": [
    {
     "name": "stdout",
     "output_type": "stream",
     "text": [
      "Enter the first name: Anna\n",
      "Enter the last name: Karenina\n"
     ]
    },
    {
     "data": {
      "text/plain": [
       "'(123)456-78-90'"
      ]
     },
     "execution_count": 40,
     "metadata": {},
     "output_type": "execute_result"
    }
   ],
   "source": [
    "def lookup(pb):\n",
    "    fn = input('Enter the first name: ')\n",
    "    ln = input('Enter the last name: ')\n",
    "    return pb[tuple((fn+\" \"+ln).split())]\n",
    "\n",
    "pb = {('Anna','Karenina'):'(123)456-78-90',('Yu', 'Tsun'):'(901)234-56-78',('Hans', 'Castorp'):'(321)908-76-54'}\n",
    "lookup(pb)"
   ]
  },
  {
   "cell_type": "markdown",
   "metadata": {},
   "source": [
    "# Practice Problem 6.6\n"
   ]
  },
  {
   "cell_type": "code",
   "execution_count": 8,
   "metadata": {},
   "outputs": [
    {
     "data": {
      "text/plain": [
       "[{'123-45-67', '234-56-78', '345-67-89', '456-78-90'},\n",
       " {'234-56-78', '345-67-89', '456-78-90'}]"
      ]
     },
     "execution_count": 8,
     "metadata": {},
     "output_type": "execute_result"
    }
   ],
   "source": [
    "def sync(lst):\n",
    "    res = []\n",
    "    for i in range(len(lst)-1):\n",
    "        res.append(lst[i]|lst[i+1])\n",
    "    return res\n",
    "\n",
    "phonebook1 = {'123-45-67', '234-56-78', '345-67-89'}\n",
    "phonebook2 = {}\n",
    "phonebook3 = {'345-67-89','456-78-90'}\n",
    "phonebook4 = {'234-56-78', '456-78-90'}\n",
    "phonebooks = [phonebook1, phonebook3, phonebook4]\n",
    "sync(phonebooks)"
   ]
  },
  {
   "cell_type": "markdown",
   "metadata": {},
   "source": [
    "# Practice Problem 6.7\n"
   ]
  },
  {
   "cell_type": "code",
   "execution_count": 16,
   "metadata": {},
   "outputs": [
    {
     "name": "stdout",
     "output_type": "stream",
     "text": [
      "Char  Decimal  Hex  Binary\n",
      "K          75   4b  1001011\n",
      "I          73   49  1001001\n",
      "N          78   4e  1001110\n",
      "G          71   47  1000111\n"
     ]
    }
   ],
   "source": [
    "def encoding(s):\n",
    "    print('Char  Decimal  Hex  Binary')\n",
    "    for ch in s:\n",
    "        print('{:4} {:8d} {:4x} {:8b}'.format(ch,ord(ch),ord(ch),ord(ch)))\n",
    "    \n",
    "encoding('KING')"
   ]
  },
  {
   "cell_type": "markdown",
   "metadata": {},
   "source": [
    "# Practice Problem 6.8\n"
   ]
  },
  {
   "cell_type": "code",
   "execution_count": 30,
   "metadata": {},
   "outputs": [
    {
     "name": "stdout",
     "output_type": "stream",
     "text": [
      "ASCII  Char\n",
      "  62 : >     \n",
      "  63 : ?     \n",
      "  64 : @     \n",
      "  65 : A     \n",
      "  66 : B     \n",
      "  67 : C     \n"
     ]
    }
   ],
   "source": [
    "def char(s, e):\n",
    "    print('ASCII  Char')\n",
    "    for n in range(s, e+1):\n",
    "        print('{:4} : {:6}'.format(n,chr(n)))\n",
    "\n",
    "char(62, 67)"
   ]
  },
  {
   "cell_type": "markdown",
   "metadata": {},
   "source": [
    "# Practice Problem 6.9\n"
   ]
  },
  {
   "cell_type": "code",
   "execution_count": 33,
   "metadata": {},
   "outputs": [
    {
     "data": {
      "text/plain": [
       "'\\\\d107'"
      ]
     },
     "execution_count": 33,
     "metadata": {},
     "output_type": "execute_result"
    }
   ],
   "source": [
    "'\\d107'\n"
   ]
  },
  {
   "cell_type": "markdown",
   "metadata": {},
   "source": [
    "# Practice Problem 6.10\n"
   ]
  },
  {
   "cell_type": "code",
   "execution_count": null,
   "metadata": {},
   "outputs": [],
   "source": []
  },
  {
   "cell_type": "markdown",
   "metadata": {},
   "source": [
    "# Practice Problem 6.11\n"
   ]
  },
  {
   "cell_type": "code",
   "execution_count": null,
   "metadata": {},
   "outputs": [],
   "source": []
  },
  {
   "cell_type": "markdown",
   "metadata": {},
   "source": [
    "# Practice Problem 6.12\n"
   ]
  },
  {
   "cell_type": "code",
   "execution_count": null,
   "metadata": {},
   "outputs": [],
   "source": []
  },
  {
   "cell_type": "markdown",
   "metadata": {},
   "source": [
    "# Practice Problem 6.13\n"
   ]
  },
  {
   "cell_type": "code",
   "execution_count": null,
   "metadata": {},
   "outputs": [],
   "source": []
  },
  {
   "cell_type": "markdown",
   "metadata": {},
   "source": [
    "# Practice Problem 6.14\n"
   ]
  },
  {
   "cell_type": "code",
   "execution_count": null,
   "metadata": {},
   "outputs": [],
   "source": []
  },
  {
   "cell_type": "markdown",
   "metadata": {},
   "source": [
    "# Practice Problem 6.1\n"
   ]
  },
  {
   "cell_type": "markdown",
   "metadata": {},
   "source": [
    "# Practice Problem 6.1\n"
   ]
  },
  {
   "cell_type": "code",
   "execution_count": null,
   "metadata": {},
   "outputs": [],
   "source": []
  }
 ],
 "metadata": {
  "kernelspec": {
   "display_name": "Python 3",
   "language": "python",
   "name": "python3"
  },
  "language_info": {
   "codemirror_mode": {
    "name": "ipython",
    "version": 3
   },
   "file_extension": ".py",
   "mimetype": "text/x-python",
   "name": "python",
   "nbconvert_exporter": "python",
   "pygments_lexer": "ipython3",
   "version": "3.7.3"
  }
 },
 "nbformat": 4,
 "nbformat_minor": 2
}
